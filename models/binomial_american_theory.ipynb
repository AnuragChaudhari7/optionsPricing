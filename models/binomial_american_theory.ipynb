{
 "cells": [
  {
   "cell_type": "markdown",
   "metadata": {},
   "source": [
    "# **Binomial Options Pricing Model - American Options**\n",
    "\n",
    "This document will use the theory from the European Theory notebook except it will rely on the early exercise formula here. The functions will be made for both call and put options. "
   ]
  },
  {
   "cell_type": "markdown",
   "metadata": {},
   "source": [
    "## American Put Options Formulae\n",
    "\n",
    "For American put options, at the terminal node layer i.e. $T = t_{N}$, the payoff for the option is given by \n",
    "$$ C_{N,j} = (K - S_{N,j})^{+}$$\n",
    "\n",
    "However for all other nodes, this is where the early-exercise option features: <br>\n",
    "For a given node at $(i,j)$, the payoff is given by the **max of the exercise value or the hold value**\n",
    "\n",
    "$$C_{i,j} = max((K - S_{i,j})^+ , e^{-r \\Delta t} \\{ pC_{i+1,j+1} + (1-p)C_{i+1,j} \\} $$\n",
    "\n",
    "\n",
    "Notice how this is similar to the European formula except there is also the option between the discounted expected value (hold value) or the payoff if exercised at that node (time)\n",
    "\n",
    "## American Call Options \n",
    "\n",
    "For this type of options, it is generally never optimal to exercise the option before expiry **ONLY IF** \n",
    "1. The underlying asset pays no dividends\n",
    "2. The interest rate is non-negative\n",
    "\n",
    "So it can simply act as a European Call Option and acn hence be converged to the Black-Scholes formula. The code below will calculate it using binomial trees and early-exercise trade-offs for consistency."
   ]
  },
  {
   "cell_type": "markdown",
   "metadata": {},
   "source": [
    "## **Parameter & Code Setup**"
   ]
  },
  {
   "cell_type": "code",
   "execution_count": 1,
   "metadata": {},
   "outputs": [],
   "source": [
    "import numpy as np"
   ]
  },
  {
   "cell_type": "code",
   "execution_count": 2,
   "metadata": {},
   "outputs": [],
   "source": [
    "# defining variables\n",
    "#TODO: change u and d to account for volatility\n",
    "S0 = 100    # initial stock price\n",
    "K = 103     # strike price\n",
    "T = 1       # time to maturity (years)\n",
    "N = 3       # no. of time-steps\n",
    "r = 0.06    # risk-free annual interest rate\n",
    "u = 1.2     # up factor\n",
    "d = 1/u     # down factor (inverse for recombining tree)\n",
    "opt = 'P'   # options type (C - call ; P - put)"
   ]
  }
 ],
 "metadata": {
  "kernelspec": {
   "display_name": ".venv",
   "language": "python",
   "name": "python3"
  },
  "language_info": {
   "codemirror_mode": {
    "name": "ipython",
    "version": 3
   },
   "file_extension": ".py",
   "mimetype": "text/x-python",
   "name": "python",
   "nbconvert_exporter": "python",
   "pygments_lexer": "ipython3",
   "version": "3.12.3"
  }
 },
 "nbformat": 4,
 "nbformat_minor": 2
}
