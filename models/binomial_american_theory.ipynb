{
 "cells": [
  {
   "cell_type": "markdown",
   "metadata": {},
   "source": [
    "# **Binomial Options Pricing Model - American Options**\n",
    "\n",
    "This document will use the theory from the European Theory notebook except it will rely on the early exercise formula here. The functions will be made for both call and put options. "
   ]
  },
  {
   "cell_type": "markdown",
   "metadata": {},
   "source": [
    "## American Put Options Formulae\n",
    "\n",
    "For American put options, at the terminal node layer i.e. $T = t_{N}$, the payoff for the option is given by \n",
    "$$ C_{N,j} = (K - S_{N,j})^{+}$$\n",
    "\n",
    "However for all other nodes, this is where the early-exercise option features: <br>\n",
    "For a given node at $(i,j)$, the payoff is given by the **max of the exercise value or the hold value**\n",
    "\n",
    "$$C_{i,j} = max((K - S_{i,j})^+ , e^{-r \\Delta t} \\{ pC_{i+1,j+1} + (1-p)C_{i+1,j} \\} $$\n",
    "\n",
    "\n",
    "Notice how this is similar to the European formula except there is also the option between the discounted expected value (hold value) or the payoff if exercised at that node (time)\n",
    "\n",
    "## American Call Options \n",
    "\n",
    "For this type of options, it is generally never optimal to exercise the option before expiry **ONLY IF** \n",
    "1. The underlying asset pays no dividends\n",
    "2. The interest rate is non-negative\n",
    "\n",
    "So it can simply act as a European Call Option and acn hence be converged to the Black-Scholes formula. The code below will calculate it using binomial trees and early-exercise trade-offs for consistency."
   ]
  },
  {
   "cell_type": "markdown",
   "metadata": {},
   "source": [
    "## **Parameter & Code Setup**"
   ]
  },
  {
   "cell_type": "code",
   "execution_count": 1,
   "metadata": {},
   "outputs": [],
   "source": [
    "import numpy as np"
   ]
  },
  {
   "cell_type": "code",
   "execution_count": 2,
   "metadata": {},
   "outputs": [],
   "source": [
    "# defining variables\n",
    "#TODO: change u and d to account for volatility\n",
    "S0 = 100    # initial stock price\n",
    "K = 100     # strike price\n",
    "T = 1       # time to maturity (years)\n",
    "N = 3       # no. of time-steps\n",
    "r = 0.06    # risk-free annual interest rate\n",
    "u = 1.1     # up factor\n",
    "d = 1/u     # down factor (inverse for recombining tree)\n",
    "opt = 'P'   # options type (C - call ; P - put)"
   ]
  },
  {
   "cell_type": "markdown",
   "metadata": {},
   "source": [
    "### American Binomial Tree - NumPy (Fast)"
   ]
  },
  {
   "cell_type": "code",
   "execution_count": 10,
   "metadata": {},
   "outputs": [
    {
     "name": "stdout",
     "output_type": "stream",
     "text": [
      "Value of American Put: $4.65\n",
      "Value of American Call: $10.15\n"
     ]
    }
   ],
   "source": [
    "def american_binomial(S0,K,T,N,r,u,d,opt='P'):\n",
    "    # first compute equation constants\n",
    "    dt = T/N \n",
    "    p = (np.exp(r*dt) - d)/(u - d)\n",
    "    discount = np.exp(-r * dt)\n",
    "    \n",
    "    # Stock prices at terminal layer\n",
    "    S = S0 * u ** (np.arange(0,N+1,1)) * d ** (np.arange(N,-1,-1))\n",
    "\n",
    "    if opt == 'P':\n",
    "        C = np.maximum(K - S, np.zeros(N+1))\n",
    "    else:\n",
    "        C = np.maximum(S - K, np.zeros(N+1))\n",
    "    \n",
    "    # work through the tree backwards\n",
    "    for i in range(N-1,-1,-1):\n",
    "        S = S0 * u ** (np.arange(0,i+1,1)) * d ** (np.arange(i,-1,-1)) # calculate stock prices at layer\n",
    "        #print(C)\n",
    "        C[:i+1] = discount * ( p*C[1:i+2] + (1-p)*C[0:i+1] ) # calculate payoff for each node\n",
    "        C = C[:-1] # knocks off last element to save memory\n",
    "\n",
    "        if opt == 'P':\n",
    "            C = np.maximum(C, K - S)\n",
    "        else:\n",
    "            C = np.maximum(C, S - K)\n",
    "\n",
    "    return C[0]\n",
    "\n",
    "P = round(american_binomial(S0,K,T,N,r,u,d,opt='P').item(),2)\n",
    "C = round(american_binomial(S0,K,T,N,r,u,d,opt='C').item(),2)\n",
    "print(f'Value of American Put: ${P}')\n",
    "print(f'Value of American Call: ${C}')"
   ]
  }
 ],
 "metadata": {
  "kernelspec": {
   "display_name": ".venv",
   "language": "python",
   "name": "python3"
  },
  "language_info": {
   "codemirror_mode": {
    "name": "ipython",
    "version": 3
   },
   "file_extension": ".py",
   "mimetype": "text/x-python",
   "name": "python",
   "nbconvert_exporter": "python",
   "pygments_lexer": "ipython3",
   "version": "3.12.3"
  }
 },
 "nbformat": 4,
 "nbformat_minor": 2
}
