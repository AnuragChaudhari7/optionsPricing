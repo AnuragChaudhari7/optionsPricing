{
 "cells": [
  {
   "cell_type": "markdown",
   "metadata": {},
   "source": [
    "# **Binomial Options Pricing Model** <br>\n",
    "This file will serve as a reference to implementing the binomial options pricing model for European Options"
   ]
  },
  {
   "cell_type": "markdown",
   "metadata": {},
   "source": [
    "## **Binomial Tree - Variables, Equations** - European Call<br>\n",
    "If we consider the binomial tree to be nodes that can be represented by vectors we can say:\n",
    "\n",
    "Stock Price at Node i,j: $$S_i,_j = S_0 \\cdot u^j \\cdot d^{i-j}$$\n",
    "\n",
    "Consider a European call option. The option contract price is given by $C_{i,j}$. For a given node, the options contract price at that node is given by\n",
    "$$C_{i,j} = max(S_{i,j} - K, 0)$$\n",
    "\n",
    "To hedge the short position, buy $\\beta$ shares of stock. As a result, consider $\\alpha$ amount of money from the monkey market with risk free interest rate r. $\\alpha$ is hence given by $$ \\alpha = C_0 - \\beta S_0$$\n",
    "\n",
    "Because we are considering a one period binomial model, we consider 2 cases:\n",
    "\n",
    "(1) The stock goes up. This leads to this formula: $$C_u = \\alpha \\cdot e^{rT} + \\beta \\cdot S_u$$\n",
    "(2) The stock goes down. This leads to this formula: $$C_d = \\alpha \\cdot e^{rT} + \\beta \\cdot S_d$$\n",
    "\n",
    "Since we want to neutralise our risk, we want to buy $\\beta$ shares of stock such that we do not lose money regardless of if the stock goes up or down. So we have to say that the portfolio value of our hedge must be equal for both scenarios.\n",
    "\n",
    "Hence subtracting both equations, we get that we should buy $\\beta$ shares given by: $$\\beta = \\frac{C_u - C_d}{S_u - S_d}$$\n",
    "\n",
    "By substituting $\\beta$ into either equation (1) or (2) we get the arbitrage price for the European call option with one period: $$ C_0 = e^{-rT}[p C_u + q C_d] $$ \n",
    "where $p = \\frac{e^{rT} - d}{u - d}$ and $q = 1 - p$ which is the risk-neutral probability.\n",
    "\n",
    "NB: $S_u = S_0 \\cdot u$ and $S_d = S_0 \\cdot d$"
   ]
  },
  {
   "cell_type": "code",
   "execution_count": 11,
   "metadata": {},
   "outputs": [],
   "source": [
    "import numpy as np"
   ]
  },
  {
   "cell_type": "code",
   "execution_count": 12,
   "metadata": {},
   "outputs": [],
   "source": [
    "# defining variables\n",
    "S0 = 100    # initial stock price\n",
    "K = 103     # strike price\n",
    "T = 1       # time to maturity (years)\n",
    "N = 3       # no. of time-steps\n",
    "r = 0.06    # risk-free annual interest rate\n",
    "u = 1.2     # up factor\n",
    "d = 1/u     # down factor (inverse for recombining tree)\n",
    "opt = 'C'   # options type (C - call ; P - put)"
   ]
  },
  {
   "cell_type": "markdown",
   "metadata": {},
   "source": [
    "## **Binomial Tree - for loops (Slow)**\n",
    "In this model, we will iterate through the notes using for loops which is slow. Later we will see how to speed this up using numpy vectorisation. \n",
    "\n",
    "The strategy is to first compute the contract values at the terminal node layer and work backwards till the initial contract value which will give us the fair options price."
   ]
  },
  {
   "cell_type": "code",
   "execution_count": 13,
   "metadata": {},
   "outputs": [
    {
     "data": {
      "text/plain": [
       "np.float64(14.81861039129543)"
      ]
     },
     "execution_count": 13,
     "metadata": {},
     "output_type": "execute_result"
    }
   ],
   "source": [
    "def binomial_slow(S0,K,T,N,r,u,d,opt='C'):\n",
    "    # first compute equation constants\n",
    "    dt = T/N \n",
    "    p = (np.exp(r*dt) - d)/(u - d)\n",
    "    discount = np.exp(-r * dt)\n",
    "\n",
    "    # numpy array to store the stock values at maturity\n",
    "    S = np.zeros(N+1)\n",
    "    S[0] = d**N * S0\n",
    "    for j in range(1,N+1):\n",
    "        S[j] = S0 * (u ** j) * (d ** (N-j))\n",
    "\n",
    "    # numpy array to store options values at maturity'\n",
    "    C = np.zeros(N+1)\n",
    "    for j in range(0,N+1):\n",
    "        C[j] = max(0,S[j] - K)\n",
    "    \n",
    "    # now let's move backwards through the tree\n",
    "    for i in np.arange(N,0,-1):\n",
    "        for j in range(0,i):\n",
    "            # replace the cell in the nparray with the backwards contract calculation of itself and the one above\n",
    "            # essentially knocking off the top element            \n",
    "            C[j] = discount * (p * C[j+1] + (1-p) * C[j]) \n",
    "    \n",
    "    return C[0]\n",
    "\n",
    "binomial_slow(S0,K,T,N,r,u,d,opt='C')"
   ]
  }
 ],
 "metadata": {
  "kernelspec": {
   "display_name": ".venv",
   "language": "python",
   "name": "python3"
  },
  "language_info": {
   "codemirror_mode": {
    "name": "ipython",
    "version": 3
   },
   "file_extension": ".py",
   "mimetype": "text/x-python",
   "name": "python",
   "nbconvert_exporter": "python",
   "pygments_lexer": "ipython3",
   "version": "3.12.3"
  }
 },
 "nbformat": 4,
 "nbformat_minor": 2
}
