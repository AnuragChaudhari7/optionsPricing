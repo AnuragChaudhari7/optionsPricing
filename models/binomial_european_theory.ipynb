{
 "cells": [
  {
   "cell_type": "markdown",
   "metadata": {},
   "source": [
    "# **Binomial Options Pricing Model** <br>\n",
    "This notebook will describe the derivations to equations in the BOPM followed by the strategy from a developers standpoint for implementation. The model will be implemented in both a slow and fast way."
   ]
  },
  {
   "cell_type": "markdown",
   "metadata": {},
   "source": [
    "## **Binomial Model Derivation - Replicating Portfolio of European Call Option**\n",
    "The approach I will be taking to develop this model will be via the **Replicating Portfolio Approach**.\n",
    "\n",
    "- Here the perspective is from the seller of the European Call Option. \n",
    "- Once the option has been sold, the seller is in a short position and is exposed to potential financial liability. \n",
    "- Therefore the seller decides to hedge this short position by buying stocks (and investing in risk-free bonds). \n",
    "- If the portfolio replicates the payoff of the option at each node, the seller is considered perfectly hedged.\n",
    "\n",
    "### Portfolio\n",
    "\n",
    "We are going to formulate this model for a one-period binomial tree i.e. the option expires after one time period.\n",
    "\n",
    "Let $\\Delta$ be the number of shares of stock bought\n",
    "Let $B$ be the amount of money invested in risk-free bonds\n",
    "\n",
    "The value of the portfolio $C$ is given by $$C = \\Delta \\cdot S_0 + B$$\n",
    "where $S_0$ is the initial stock price when the option was sold\n",
    "\n",
    "Now to be completely hedged, the portfolio needs to match the option's payoff at that time depending on if the stock goes up or down.\n",
    "\n",
    "If the stock goes up: $$\\Delta \\cdot S_u + Be^{r \\Delta t} = C_u$$\n",
    "\n",
    "If the stock goes down: $$\\Delta \\cdot S_d + Be^{r \\Delta t} = C_d $$\n",
    "\n",
    "where $S_u = S_0 \\cdot u$ , $S_d = S_0 \\cdot d$ , $u$ is the up-factor of the stock and $d = \\frac{1}{u}$\n",
    "\n",
    "Note that the risk free interest rate applied is the same regardless of stock movement since it is a different market.\n",
    "\n",
    "### Solving $\\Delta$ and $B$\n",
    "\n",
    "Subtracting both equations we end up with the formula for $\\Delta$: $$\\Delta = \\frac{C_u - C_d}{S_u - S_d}$$\n",
    "\n",
    "Substituing this into either the stock up/down equation we obtain $$B = e^{-r \\Delta t} \\left( \\frac{S_u C_d - S_d C_u}{S_u - S_d} \\right)$$\n",
    "\n",
    "### Calculating the Initial/Previous Option Price\n",
    "\n",
    "Note that the previous option price is given by the portfolio value at that time: $$C = \\Delta \\cdot S_0 + B$$\n",
    "We can substitue $\\Delta$ and $B$ into this to get: $$C = \\frac{C_u - C_d}{S_u - S_d} + e^{-r \\Delta t} \\left( \\frac{S_u C_d - S_d C_u}{S_u - S_d} \\right)$$ \n",
    "\n",
    "### Discounted Expectation Formula\n",
    "\n",
    "This after simplifcation and substituion with variables expressed in terms of $u$ and $d$ results in the **Discounted Expectation Formula**. \n",
    "\n",
    "$$C = e^{-r \\Delta t} [pC_u + (1-p)C_d]$$ \n",
    "\n",
    "where $$ p = \\frac{e^{r \\Delta t - d}}{u - d}$$ and $$ u = e^{\\sigma \\sqrt{\\Delta t}} , d = \\frac{1}{u}$$\n",
    "\n",
    "This could have been calculated with a simpler probablistic approach of expected value but the approach above demonstrates how the option price is derived using a hedging portfolio to eliminate risk and still acheive arbitrage-free pricing."
   ]
  },
  {
   "cell_type": "markdown",
   "metadata": {},
   "source": [
    "## **Implementation Strategy**<br>\n",
    "\n",
    "This section will strategise how to use the previous section on a one-period binomial model and how to expand it to calculate the fair option price given a multi-period binomial tree.\n",
    "\n",
    "- First let's consider the binomial tree with nodes and edges. \n",
    "- It is a multi-period binomial tree (say 3 steps). \n",
    "- If we want to calculate the initial contract fair price, we can use our one-period binomial tree to work backwards from the last stage to the initial node\n",
    "- Looking closely at the binomial tree, we can calculate all the previous layer's contract prices by splitting the tree into smaller one period binomial trees\n",
    "- We repeat this step going backwards till we get to the first node - which is the **Fair Contract Price**\n",
    "\n",
    "### Binomial Tree Setup\n",
    "\n",
    "In order to start working backwards, we first need to calculate the contract prices at the terminal node layer.\n",
    "\n",
    "Considering the BT as a tree with nodes and edges that can be indexed using $i,j$ indexing (0-indexed) where $j = 0$ is the lowest node for the particular layer and $i$ is the particular layer.\n",
    "\n",
    "### Stock Price - Terminal Node Layer\n",
    "First calculate the stock price for a node on the terminal $i = N$ layer:\n",
    "\n",
    "$$S_{N,j} = S_0 \\cdot u^j \\cdot d^{N-j}$$\n",
    "\n",
    "This formula comes from the repeated multiplication of $u$ and $d$ along the various edges from the initial stock price. This formula is valid only if the BT is recombining (ensured by $u = 1/d$)\n",
    "\n",
    "### Contract Payoff - Terminal Node Layer\n",
    "Now we can calculate the contract prices. The rationale behind this is based on 2 scenarios. \n",
    "1) If the option is exercised, the payoff is determined by $S - K$ because that is what profit the buyer will get by immediately **selling** the stock at the current price $ $S$ once bought for $ $K$. \n",
    "2) If $S$ is below the strike price $K$, the buyer will not exercise the option since the buyer will lose money selling stock at a lower than bought price\n",
    "\n",
    "Hence we get the equation for a contract by: \n",
    "\n",
    "$$ C_{i,j} = max\\{ S_{i,j} - K,0 \\}$$\n",
    "\n",
    "### Contract Price Formula - One Period BT\n",
    "\n",
    "With our new notation, our new formula for the previous node's contract price is given by:\n",
    "\n",
    "$$C_{i,j} = e^{-r \\Delta t} [pC_{i+1,j+1} + (1-p)C_{i+1,j}]$$ \n",
    "\n",
    "Now we can use this because we can calculate the contract payoffs for the terminal nodes from the previous section!\n",
    "\n",
    "### Backward Induction\n",
    "\n",
    "After calculating the contract prices on the terminal layer, we use the DEF formula to calculate the previous node's contract payoffs. And then the previous nodes etc. etc. until we get to the 0th + 1 layer where we can finally calculate the initial option payoff and hence the fair option price. \n",
    "\n",
    "### Computationally\n",
    "\n",
    "We will consider each layer as NumPy arrays and iterate backwards, knocking off the N-1 indexed element at each stage so that the array's relevant values reduce till the first element."
   ]
  },
  {
   "cell_type": "code",
   "execution_count": 31,
   "metadata": {},
   "outputs": [],
   "source": [
    "import numpy as np"
   ]
  },
  {
   "cell_type": "code",
   "execution_count": 32,
   "metadata": {},
   "outputs": [],
   "source": [
    "# defining variables\n",
    "#TODO: change u and d to account for volatility\n",
    "S0 = 100    # initial stock price\n",
    "K = 103     # strike price\n",
    "T = 1       # time to maturity (years)\n",
    "N = 4       # no. of time-steps\n",
    "r = 0.06    # risk-free annual interest rate\n",
    "u = 1.2     # up factor\n",
    "d = 1/u     # down factor (inverse for recombining tree)\n",
    "opt = 'C'   # options type (C - call ; P - put)"
   ]
  },
  {
   "cell_type": "markdown",
   "metadata": {},
   "source": [
    "## **Binomial Tree - for loops (Slow)**\n",
    "In this model, we will iterate through the notes using for loops which is slow. Later we will see how to speed this up using numpy vectorisation. \n",
    "\n",
    "The strategy is to first compute the contract values at the terminal node layer and work backwards till the initial contract value which will give us the fair options price."
   ]
  },
  {
   "cell_type": "code",
   "execution_count": 33,
   "metadata": {},
   "outputs": [],
   "source": [
    "def binomial_slow(S0,K,T,N,r,u,d,opt='C'):\n",
    "    # first compute equation constants\n",
    "    dt = T/N \n",
    "    p = (np.exp(r*dt) - d)/(u - d)\n",
    "    discount = np.exp(-r * dt)\n",
    "\n",
    "    # numpy array to store the stock values at maturity\n",
    "    S = np.zeros(N+1)\n",
    "    S[0] = d**N * S0\n",
    "    for j in range(1,N+1):\n",
    "        S[j] = S0 * (u ** j) * (d ** (N-j))\n",
    "\n",
    "    # numpy array to store options values at maturity'\n",
    "    C = np.zeros(N+1)\n",
    "    for j in range(0,N+1):\n",
    "        C[j] = max(0,S[j] - K)\n",
    "    \n",
    "    # now let's move backwards through the tree\n",
    "    for i in np.arange(N,0,-1):\n",
    "        for j in range(0,i):\n",
    "            # replace the cell in the nparray with the backwards contract calculation of itself and the one above\n",
    "            # essentially knocking off the top element            \n",
    "            C[j] = discount * (p * C[j+1] + (1-p) * C[j]) \n",
    "    \n",
    "    return C[0]"
   ]
  },
  {
   "cell_type": "code",
   "execution_count": 34,
   "metadata": {},
   "outputs": [
    {
     "data": {
      "text/plain": [
       "15.43"
      ]
     },
     "execution_count": 34,
     "metadata": {},
     "output_type": "execute_result"
    }
   ],
   "source": [
    "result = round(float(binomial_slow(S0,K,T,N,r,u,d,opt='C')),2)\n",
    "result"
   ]
  },
  {
   "cell_type": "markdown",
   "metadata": {},
   "source": [
    "## **Binomial Tree - numpy vectorisation (Fast)**\n",
    "\n",
    "The same mathematics and techniques are going to be used here but instead of iterating using for loops we will speed up the multiplication process by using vectors.\n",
    "\n",
    "The strategy to be used is as follows:\n",
    "1) We initialise a numpy array (vector) **C** using np.arange(). This will contain the stock prices at the terminal node layer\n",
    "\n",
    "2) Then we subtract the scalar **K** from the vector **C** and compute the maximum for each entry in the vector between $ K - C $ and the zero vector. This will satisfy this equation $$C_{i,j} = max(S_{i,j} - K, 0)$$\n",
    "\n",
    "3) Now we step backwards through the tree from the Nth (terminal) layer to the 1st layer (not the 0th layer). In order to efficiently calculate the previous layer's contract prices we will use vector slicing. To calculate the $i-1$ node at a height $j$, we take the nodes from $i$ at positions $j$ and $j+1$ and we do this for every single node at layer $i-1$. For each node this acts as a one period binomial tree. It therefore makes sense to slice the $i$ th layer's vector from $0$ to $i-1$ (inclusive) for the node positions at $j$ and slice the $i$ th layer's vector from $1$ to $i$ (inclusive) for node positions at $j+1$ for each one period binomial tree. \n",
    "\n",
    "4) Once we've reached the final one period binomial tree, the initial node will have been calculated (i.e. its contract price has been calculated) so we output that\n",
    "\n"
   ]
  },
  {
   "cell_type": "code",
   "execution_count": 35,
   "metadata": {},
   "outputs": [],
   "source": [
    "def binomial_fast(S0=100,K=103,T=1,N=3,r=0.06,u=1.2,d=1/u,opt='C'):\n",
    "    # first compute equation constants\n",
    "    dt = T/N \n",
    "    p = (np.exp(r*dt) - d)/(u - d)\n",
    "    discount = np.exp(-r * dt)\n",
    "\n",
    "    #initialise array with stock prices\n",
    "    C = S0 * u ** (np.arange(0,N+1,1)) * d ** (np.arange(N,-1,-1))\n",
    "\n",
    "    #calculate option payoffs using vectors\n",
    "    C = np.maximum(C-K, np.zeros(N+1))\n",
    "\n",
    "    #iterate backwards and multiply vectors so that each index in previous step corresponds\n",
    "    #to the same index times the one above it - hence the slicing\n",
    "    for i in np.arange(N,0,-1):\n",
    "        C = discount * (p * C[1:i+1] + (1-p) * C[0:i])\n",
    "    \n",
    "    return C[0]"
   ]
  },
  {
   "cell_type": "code",
   "execution_count": 36,
   "metadata": {},
   "outputs": [
    {
     "data": {
      "text/plain": [
       "15.43"
      ]
     },
     "execution_count": 36,
     "metadata": {},
     "output_type": "execute_result"
    }
   ],
   "source": [
    "result = round(float(binomial_fast(S0=S0,K=K,T=T,N=N,r=r,u=u,d=d,opt='C')), 2)\n",
    "C = result\n",
    "C"
   ]
  },
  {
   "cell_type": "markdown",
   "metadata": {},
   "source": [
    "## **Put-Call Parity Derivation**\n",
    "\n",
    "Put-Call parity is a relationship between European Call and Put options that allows for no-arbitrage pricing.\n",
    "\n",
    "We can derive this by creating 2 equivalent portfolios to avoid arbitrage. \n",
    "\n",
    "**Portfolio A**\n",
    "- Buy one European Call Option ($C$)\n",
    "- Sell one European Put Option ($P$)\n",
    "- Have cash at discounted price ($Ke^{-rT}$)\n",
    "\n",
    "**Portfolio B**\n",
    "- Buy one share of stock ($S_0$)\n",
    "\n",
    "There are now 2 scenarios with stock price $S_T$:\n",
    "\n",
    "1) $S_T > K$ \n",
    "    - Exercise call option - payoff of $S_T - K$#\n",
    "    - Put Option expires\n",
    "    - Cash then grows to K because interest rate\n",
    "    - Portfolio A Value: $S_T - K + K = S_T$\n",
    "    - Portfolio B Value: $S_T$\n",
    "\n",
    "2) $S_T < K$\n",
    "    - Call Option expires\n",
    "    - Put Option exercised - loss of $K - S_T$\n",
    "    - Cash grows to K\n",
    "    - Portfolio A Value: $K -(K - S_T) = S_T$\n",
    "    - Portfolio B Value: $S_T$\n",
    "\n",
    "Hence in both scenarios the Portfolio Values are equal. This means that the initial portfolio values must be equal due to no-arbitrage.\n",
    "\n",
    "This leads to the equation $$C + Ke^{-rT} - P = S_0$$"
   ]
  },
  {
   "cell_type": "markdown",
   "metadata": {},
   "source": [
    "## **Fairly Pricing European Put Option - Put-Call Parity & BOPM**\n",
    "\n",
    "Now given we have calculated the fair price of a European Call Option, and we have the remaining variables, we can calculate fair price of the European Put Option using the rearranged Put-Call parity formula: \n",
    "\n",
    "$$P = C + Ke^{-rT} - S_0$$"
   ]
  },
  {
   "cell_type": "code",
   "execution_count": 37,
   "metadata": {},
   "outputs": [],
   "source": [
    "def put_price_from_call(C,S0=100,K=103,T=1):\n",
    "    discount = np.exp(-r * T)\n",
    "    P = C + (K * discount) - S0\n",
    "    return P"
   ]
  },
  {
   "cell_type": "code",
   "execution_count": 38,
   "metadata": {},
   "outputs": [
    {
     "data": {
      "text/plain": [
       "12.43"
      ]
     },
     "execution_count": 38,
     "metadata": {},
     "output_type": "execute_result"
    }
   ],
   "source": [
    "P = put_price_from_call(C=C,S0=S0,K=K,T=T)\n",
    "round(P.item(),2)"
   ]
  }
 ],
 "metadata": {
  "kernelspec": {
   "display_name": ".venv",
   "language": "python",
   "name": "python3"
  },
  "language_info": {
   "codemirror_mode": {
    "name": "ipython",
    "version": 3
   },
   "file_extension": ".py",
   "mimetype": "text/x-python",
   "name": "python",
   "nbconvert_exporter": "python",
   "pygments_lexer": "ipython3",
   "version": "3.12.3"
  }
 },
 "nbformat": 4,
 "nbformat_minor": 2
}
