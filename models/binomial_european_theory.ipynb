{
 "cells": [
  {
   "cell_type": "markdown",
   "metadata": {},
   "source": [
    "# **Binomial Options Pricing Model** <br>\n",
    "This notebook will describe the derivations to equations in the BOPM followed by the strategy from a developers standpoint for implementation. The model will be implemented in both a slow and fast way."
   ]
  },
  {
   "cell_type": "markdown",
   "metadata": {},
   "source": [
    "## **Binomial Model Derivation - Replicating Portfolio**\n",
    "The approach I will be taking to develop this model will be via the **Replicating Portfolio Approach**.\n",
    "\n",
    "- Here the perspective is from the seller of the European Call Option. \n",
    "- Once the option has been sold, the seller is in a short position and is exposed to potential financial liability. \n",
    "- Therefore the seller decides to hedge this short position by buying stocks (and investing in risk-free bonds). \n",
    "- If the portfolio replicates the payoff of the option at each node, the seller is considered perfectly hedged.\n",
    "\n",
    "### **Portfolio** \n",
    "\n",
    "We are going to formulate this model for a one-period binomial tree i.e. the option expires after one time period.\n",
    "\n",
    "Let $\\Delta$ be the number of shares of stock bought\n",
    "Let $B$ be the amount of money invested in risk-free bonds\n",
    "\n",
    "The value of the portfolio $C$ is given by $$C = \\Delta \\cdot S_0 + B$$\n",
    "where $S_0$ is the initial stock price when the option was sold\n",
    "\n",
    "Now to be completely hedged, the portfolio needs to match the option's payoff at that time depending on if the stock goes up or down.\n",
    "\n",
    "If the stock goes up: $$\\Delta \\cdot S_u + Be^{r \\Delta t} = C_u$$\n",
    "\n",
    "If the stock goes down: $$\\Delta \\cdot S_d + Be^{r \\Delta t} = C_d $$\n",
    "\n",
    "where $S_u = S_0 \\cdot u$ , $S_d = S_0 \\cdot d$ , $u$ is the up-factor of the stock and $d = \\frac{1}{u}$\n",
    "\n",
    "Note that the risk free interest rate applied is the same regardless of stock movement since it is a different market.\n",
    "\n",
    "### **Solving $\\Delta$ and $B$**\n",
    "\n",
    "Subtracting both equations we end up with the formula for $\\Delta$: $$\\Delta = \\frac{C_u - C_d}{S_u - S_d}$$\n",
    "\n",
    "Substituing this into either the stock up/down equation we obtain $$B = e^{-r \\Delta t} \\left( \\frac{S_u C_d - S_d C_u}{S_u - S_d} \\right)$$\n",
    "\n",
    "### **Calculating the Initial/Previous Option Price**\n",
    "\n",
    "Note that the previous option price is given by the portfolio value at that time: $$C = \\Delta \\cdot S_0 + B$$\n",
    "We can substitue $\\Delta$ and $B$ into this to get: $$C = \\frac{C_u - C_d}{S_u - S_d} + e^{-r \\Delta t} \\left( \\frac{S_u C_d - S_d C_u}{S_u - S_d} \\right)$$ \n",
    "\n",
    "This after simplifcation and substituion with variables expressed in terms of $u$ and $d$ results in the **Discounted Expectation Formula**. \n",
    "\n",
    "$$C = e^{-r \\Delta t} [pC_u + (1-p)C_d]$$ \n",
    "\n",
    "where $$ p = \\frac{e^{r \\Delta t - d}}{u - d}$$ and $$ u = e^{\\sigma \\sqrt{\\Delta t}} , d = \\frac{1}{u}$$\n",
    "\n",
    "This could have been calculated with a simpler probablistic approach of expected value but the approach above demonstrates how the option price is derived using a hedging portfolio to eliminate risk and still acheive arbitrage-free pricing."
   ]
  },
  {
   "cell_type": "markdown",
   "metadata": {},
   "source": [
    "## **Binomial Tree - Variables, Equations** - European Call<br>\n",
    "If we consider the binomial tree to be nodes that can be represented by vectors we can say:\n",
    "\n",
    "Stock Price at Node i,j: $$S_i,_j = S_0 \\cdot u^j \\cdot d^{i-j}$$\n",
    "\n",
    "Consider a European call option. The option contract price is given by $C_{i,j}$. For a given node, the options contract price at that node is given by\n",
    "$$C_{i,j} = max(S_{i,j} - K, 0)$$\n",
    "\n",
    "To hedge the short position, buy $\\beta$ shares of stock. As a result, consider $\\alpha$ amount of money from the monkey market with risk free interest rate r. $\\alpha$ is hence given by $$ \\alpha = C_0 - \\beta S_0$$\n",
    "\n",
    "Because we are considering a one period binomial model, we consider 2 cases:\n",
    "\n",
    "(1) The stock goes up. This leads to this formula: $$C_u = \\alpha \\cdot e^{rT} + \\beta \\cdot S_u$$\n",
    "(2) The stock goes down. This leads to this formula: $$C_d = \\alpha \\cdot e^{rT} + \\beta \\cdot S_d$$\n",
    "\n",
    "Since we want to neutralise our risk, we want to buy $\\beta$ shares of stock such that we do not lose money regardless of if the stock goes up or down. So we have to say that the portfolio value of our hedge must be equal for both scenarios.\n",
    "\n",
    "Hence subtracting both equations, we get that we should buy $\\beta$ shares given by: $$\\beta = \\frac{C_u - C_d}{S_u - S_d}$$\n",
    "\n",
    "By substituting $\\beta$ into either equation (1) or (2) we get the arbitrage price for the European call option with one period: $$ C_0 = e^{-rT}[p C_u + q C_d] $$ \n",
    "where $p = \\frac{e^{rT} - d}{u - d}$ and $q = 1 - p$ which is the risk-neutral probability.\n",
    "\n",
    "NB: $S_u = S_0 \\cdot u$ and $S_d = S_0 \\cdot d$"
   ]
  },
  {
   "cell_type": "code",
   "execution_count": 9,
   "metadata": {},
   "outputs": [],
   "source": [
    "import numpy as np"
   ]
  },
  {
   "cell_type": "code",
   "execution_count": 10,
   "metadata": {},
   "outputs": [],
   "source": [
    "# defining variables\n",
    "S0 = 100    # initial stock price\n",
    "K = 103     # strike price\n",
    "T = 1       # time to maturity (years)\n",
    "N = 3       # no. of time-steps\n",
    "r = 0.06    # risk-free annual interest rate\n",
    "u = 1.2     # up factor\n",
    "d = 1/u     # down factor (inverse for recombining tree)\n",
    "opt = 'C'   # options type (C - call ; P - put)"
   ]
  },
  {
   "cell_type": "markdown",
   "metadata": {},
   "source": [
    "## **Binomial Tree - for loops (Slow)**\n",
    "In this model, we will iterate through the notes using for loops which is slow. Later we will see how to speed this up using numpy vectorisation. \n",
    "\n",
    "The strategy is to first compute the contract values at the terminal node layer and work backwards till the initial contract value which will give us the fair options price."
   ]
  },
  {
   "cell_type": "code",
   "execution_count": 11,
   "metadata": {},
   "outputs": [],
   "source": [
    "def binomial_slow(S0,K,T,N,r,u,d,opt='C'):\n",
    "    # first compute equation constants\n",
    "    dt = T/N \n",
    "    p = (np.exp(r*dt) - d)/(u - d)\n",
    "    discount = np.exp(-r * dt)\n",
    "\n",
    "    # numpy array to store the stock values at maturity\n",
    "    S = np.zeros(N+1)\n",
    "    S[0] = d**N * S0\n",
    "    for j in range(1,N+1):\n",
    "        S[j] = S0 * (u ** j) * (d ** (N-j))\n",
    "\n",
    "    # numpy array to store options values at maturity'\n",
    "    C = np.zeros(N+1)\n",
    "    for j in range(0,N+1):\n",
    "        C[j] = max(0,S[j] - K)\n",
    "    \n",
    "    # now let's move backwards through the tree\n",
    "    for i in np.arange(N,0,-1):\n",
    "        for j in range(0,i):\n",
    "            # replace the cell in the nparray with the backwards contract calculation of itself and the one above\n",
    "            # essentially knocking off the top element            \n",
    "            C[j] = discount * (p * C[j+1] + (1-p) * C[j]) \n",
    "    \n",
    "    return C[0]"
   ]
  },
  {
   "cell_type": "code",
   "execution_count": 12,
   "metadata": {},
   "outputs": [
    {
     "data": {
      "text/plain": [
       "14.82"
      ]
     },
     "execution_count": 12,
     "metadata": {},
     "output_type": "execute_result"
    }
   ],
   "source": [
    "result = round(float(binomial_slow(S0,K,T,N,r,u,d,opt='C')),2)\n",
    "result"
   ]
  },
  {
   "cell_type": "markdown",
   "metadata": {},
   "source": [
    "## **Binomial Tree - numpy vectorisation (Fast)**\n",
    "\n",
    "The same mathematics and techniques are going to be used here but instead of iterating using for loops we will speed up the multiplication process by using vectors.\n",
    "\n",
    "The strategy to be used is as follows:\n",
    "1) We initialise a numpy array (vector) **C** using np.arange(). This will contain the stock prices at the terminal node layer\n",
    "\n",
    "2) Then we subtract the scalar **K** from the vector **C** and compute the maximum for each entry in the vector between $ K - C $ and the zero vector. This will satisfy this equation $$C_{i,j} = max(S_{i,j} - K, 0)$$\n",
    "\n",
    "3) Now we step backwards through the tree from the Nth (terminal) layer to the 1st layer (not the 0th layer). In order to efficiently calculate the previous layer's contract prices we will use vector slicing. To calculate the $i-1$ node at a height $j$, we take the nodes from $i$ at positions $j$ and $j+1$ and we do this for every single node at layer $i-1$. For each node this acts as a one period binomial tree. It therefore makes sense to slice the $i$ th layer's vector from $0$ to $i-1$ (inclusive) for the node positions at $j$ and slice the $i$ th layer's vector from $1$ to $i$ (inclusive) for node positions at $j+1$ for each one period binomial tree. \n",
    "\n",
    "4) Once we've reached the final one period binomial tree, the initial node will have been calculated (i.e. its contract price has been calculated) so we output that\n",
    "\n"
   ]
  },
  {
   "cell_type": "code",
   "execution_count": 13,
   "metadata": {},
   "outputs": [],
   "source": [
    "def binomial_fast(S0=100,K=103,T=1,N=3,r=0.06,u=1.2,d=1/u,opt='C'):\n",
    "    # first compute equation constants\n",
    "    dt = T/N \n",
    "    p = (np.exp(r*dt) - d)/(u - d)\n",
    "    discount = np.exp(-r * dt)\n",
    "\n",
    "    #initialise array with stock prices\n",
    "    C = S0 * u ** (np.arange(0,N+1,1)) * d ** (np.arange(N,-1,-1))\n",
    "\n",
    "    #calculate option payoffs using vectors\n",
    "    C = np.maximum(C-K, np.zeros(N+1))\n",
    "\n",
    "    #iterate backwards and multiply vectors so that each index in previous step corresponds\n",
    "    #to the same index times the one above it - hence the slicing\n",
    "    for i in np.arange(N,0,-1):\n",
    "        C = discount * (p * C[1:i+1] + (1-p) * C[0:i])\n",
    "    \n",
    "    return C[0]"
   ]
  },
  {
   "cell_type": "code",
   "execution_count": 14,
   "metadata": {},
   "outputs": [
    {
     "data": {
      "text/plain": [
       "14.82"
      ]
     },
     "execution_count": 14,
     "metadata": {},
     "output_type": "execute_result"
    }
   ],
   "source": [
    "result = round(float(binomial_fast(S0=100,K=103,T=1,N=3,r=0.06,u=1.2,d=1/u,opt='C')), 2)\n",
    "result"
   ]
  }
 ],
 "metadata": {
  "kernelspec": {
   "display_name": ".venv",
   "language": "python",
   "name": "python3"
  },
  "language_info": {
   "codemirror_mode": {
    "name": "ipython",
    "version": 3
   },
   "file_extension": ".py",
   "mimetype": "text/x-python",
   "name": "python",
   "nbconvert_exporter": "python",
   "pygments_lexer": "ipython3",
   "version": "3.12.3"
  }
 },
 "nbformat": 4,
 "nbformat_minor": 2
}
