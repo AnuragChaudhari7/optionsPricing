{
 "cells": [
  {
   "cell_type": "markdown",
   "metadata": {},
   "source": [
    "# Bisection Method for Backing Out an American Put's I-V"
   ]
  },
  {
   "cell_type": "markdown",
   "metadata": {},
   "source": [
    "## Theory\n",
    "NB. This is a continuation from the Newton-Raphson document. <br> <br>\n",
    "\n",
    "American options have an early exercise feature which makes Newton-Raphson ineffective at finding the root of the graph. This is because there is no guarantee that the function is differentiable. As such, to find the root we need to use the bisection method."
   ]
  },
  {
   "cell_type": "markdown",
   "metadata": {},
   "source": [
    "### Bisection Method\n",
    "\n",
    "Consider the interval $[a,b]$ chosen where a root lies. <br>\n",
    "1. Calculate the point $c = \\frac{a + b}{2}$\n",
    "2. Compare $f(a)$ and $f(c)$ <br>\n",
    "3. If they're the same sign then $a = c$\n",
    "4. Otherwise $b = c$\n",
    "5. Repeat until $|f(c)|\\leq tol$\n",
    "6. $root = c$"
   ]
  },
  {
   "cell_type": "markdown",
   "metadata": {},
   "source": [
    "### Parameters for American Put\n",
    "\n",
    "Given the options market implied volatility as $\\sigma$ , we will set the interval as \n",
    "\n",
    "$$[0.01, 2\\sigma]$$\n",
    "\n",
    "Then use the method above to calculate the implied volatility"
   ]
  },
  {
   "cell_type": "markdown",
   "metadata": {},
   "source": [
    "## Implementation"
   ]
  },
  {
   "cell_type": "code",
   "execution_count": 1,
   "metadata": {},
   "outputs": [],
   "source": [
    "from binomial_american import american_binomial_put"
   ]
  },
  {
   "cell_type": "code",
   "execution_count": 4,
   "metadata": {},
   "outputs": [],
   "source": [
    "S = 30\n",
    "K = 28\n",
    "T = 0.5\n",
    "r = 0.025\n",
    "sig = 0.3 # market implied-volatility example (decimal)\n",
    "P = 3.7\n",
    "N=100"
   ]
  },
  {
   "cell_type": "code",
   "execution_count": 7,
   "metadata": {},
   "outputs": [
    {
     "data": {
      "text/plain": [
       "0.30499999999999994"
      ]
     },
     "execution_count": 7,
     "metadata": {},
     "output_type": "execute_result"
    }
   ],
   "source": [
    "def bisection(S, K, T, r, sig, P, N, tol=0.00001):\n",
    "\n",
    "    def difference(c):\n",
    "        # functions y-axis \n",
    "        return american_binomial_put(S,K,T,N,r,c) - P\n",
    "    \n",
    "    # Define initial interval\n",
    "    a, b = 0.01, 2*sig\n",
    "\n",
    "    for i in range(200):\n",
    "        c = (a + b) / 2\n",
    "\n",
    "        if abs(difference(c)) < tol:\n",
    "            # if root\n",
    "            break\n",
    "        \n",
    "        # compare signs\n",
    "        if difference(a) * difference(b) > 0:\n",
    "            # same sign\n",
    "            a = c\n",
    "        else:\n",
    "            b = c\n",
    "\n",
    "    return c\n",
    "\n",
    "bisection(S,K,T,r,sig,P,N)"
   ]
  }
 ],
 "metadata": {
  "kernelspec": {
   "display_name": ".venv",
   "language": "python",
   "name": "python3"
  },
  "language_info": {
   "codemirror_mode": {
    "name": "ipython",
    "version": 3
   },
   "file_extension": ".py",
   "mimetype": "text/x-python",
   "name": "python",
   "nbconvert_exporter": "python",
   "pygments_lexer": "ipython3",
   "version": "3.12.3"
  }
 },
 "nbformat": 4,
 "nbformat_minor": 2
}
