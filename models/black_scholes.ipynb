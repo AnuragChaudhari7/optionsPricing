{
 "cells": [
  {
   "cell_type": "markdown",
   "metadata": {},
   "source": [
    "# **Black-Scholes PDE & Solutions**\n",
    "This equation is used to model European options and is used to determine the fair price of this option in a continous setting - unlike the binomial model which was done in a discrete setting\n"
   ]
  },
  {
   "cell_type": "code",
   "execution_count": 23,
   "metadata": {},
   "outputs": [],
   "source": [
    "import math\n",
    "from scipy.stats import norm"
   ]
  },
  {
   "cell_type": "markdown",
   "metadata": {},
   "source": [
    "## Black-Scholes PDE\n",
    "Black Scholes Partial Differential Equation\n",
    "$$\\frac{\\delta V}{\\delta t}(S_t,t)dt + \\frac{1}{2} {\\sigma}^2 \\cdot {S_t}^2 \\cdot \\frac{{\\delta}^2 V}{\\delta S^2}(S_t,t) + r\\cdot S_t \\cdot \\frac{\\delta V}{\\delta S}(S_t , t) = rV_t \\,\\,\\,\\,\\,\\,\\,\\,\\,\\,\\,\\,\\,\\,\\,\\,\\,\\,\\,\\,\\,\\, \\forall t \\in [0,T) , x \\geq 0$$\n",
    "$ $\n",
    "where <br>\n",
    "$S_t$ is the **stock price** at time $t$ <br>\n",
    "$\\sigma$ is the **stock volatility** (assumed to be constant) <br>\n",
    "$V_t$ is the **option price** at time $t$ <br>"
   ]
  },
  {
   "cell_type": "markdown",
   "metadata": {},
   "source": [
    "## Solution to Black-Scholes PDE\n",
    "\n",
    "\n",
    "$$ V_t = S_t \\cdot N(\\, d_+ (\\tau , S_t) \\,) - Ke^{-r \\tau} \\cdot N(\\, d_- (\\tau , S_t \\,) ) $$\n",
    "\n",
    "where \n",
    "$$ d_{\\pm}(\\tau , S_t) = \\frac{1}{\\sigma \\sqrt{\\tau}} \\left[ln \\frac{S_t}{K} + \\left( r \\pm \\frac{{\\sigma}^2}{2} \\right) \\cdot \\tau \\right]$$ \n",
    "\n",
    "and the Normal CDF\n",
    "$$N(y) = \\frac{1}{\\sqrt{2\\pi}} \\int_{- \\infty}^{y} e^{- \\frac{z^2}{2}} dz $$\n",
    "\n",
    "where <br>\n",
    "$K$ is the option **strike price** <br>\n",
    "$\\tau$ is the **time to expiry**<br>\n",
    "$r$ is risk-free **interest rate** <br>\n",
    "\n",
    "N.B. $V_t$ represents the value of European Call Options. The value of European Put Options is just the negation (including $d_+$ and $d_-$)"
   ]
  },
  {
   "cell_type": "markdown",
   "metadata": {},
   "source": [
    "### Variable Definition"
   ]
  },
  {
   "cell_type": "code",
   "execution_count": 24,
   "metadata": {},
   "outputs": [],
   "source": [
    "S = 42 # stock price\n",
    "K = 40 # strike price\n",
    "T = 0.5 # time to expiry (tau)\n",
    "r = 0.1 # risk free interest rate\n",
    "sig = 0.2 # volatility (sigma)\n",
    "discount = math.exp(-r * T)"
   ]
  },
  {
   "cell_type": "markdown",
   "metadata": {},
   "source": [
    "### $d_+$ (d1) Calculation\n",
    "\n",
    "$$ d_{+}(\\tau , S_t) = \\frac{1}{\\sigma \\sqrt{\\tau}} \\left[ln \\frac{S_t}{K} + \\left( r + \\frac{{\\sigma}^2}{2} \\right) \\cdot \\tau \\right]$$ "
   ]
  },
  {
   "cell_type": "code",
   "execution_count": 25,
   "metadata": {},
   "outputs": [],
   "source": [
    "d1 = (math.log(S/K) + T*(r + (sig**2)/2)) / (sig * math.sqrt(T))"
   ]
  },
  {
   "cell_type": "markdown",
   "metadata": {},
   "source": [
    "### $d_{-}$ (d2) Calculation\n",
    "Notice that $d_-$ can be calculated using this formula\n",
    "\n",
    "$$ d_- = d_+ - \\sigma \\sqrt{\\tau} $$"
   ]
  },
  {
   "cell_type": "code",
   "execution_count": 26,
   "metadata": {},
   "outputs": [],
   "source": [
    "d2 = d1 - (sig * math.sqrt(T))"
   ]
  },
  {
   "cell_type": "markdown",
   "metadata": {},
   "source": [
    "### European Call Option Price\n",
    "\n",
    "$$ V_t = S_t \\cdot N(\\, d_+ (\\tau , S_t) \\,) - Ke^{-r \\tau} \\cdot N(\\, d_- (\\tau , S_t \\,) ) $$"
   ]
  },
  {
   "cell_type": "code",
   "execution_count": 27,
   "metadata": {},
   "outputs": [],
   "source": [
    "C = (S * norm.cdf(d1)) - (K * discount * norm.cdf(d2))"
   ]
  },
  {
   "cell_type": "markdown",
   "metadata": {},
   "source": [
    "### European Put Option Price\n",
    "\n",
    "$$ V_t = Ke^{-r \\tau} \\cdot N(\\, - d_- (\\tau , S_t \\,) ) - S_t \\cdot N(\\, - d_+ (\\tau , S_t) \\,)  $$"
   ]
  },
  {
   "cell_type": "code",
   "execution_count": 28,
   "metadata": {},
   "outputs": [],
   "source": [
    "P = (K * discount * norm.cdf(-d2)) - (S * norm.cdf(-d1))\n"
   ]
  },
  {
   "cell_type": "markdown",
   "metadata": {},
   "source": [
    "### Results"
   ]
  },
  {
   "cell_type": "code",
   "execution_count": 29,
   "metadata": {},
   "outputs": [
    {
     "name": "stdout",
     "output_type": "stream",
     "text": [
      "European Call Option Price: $4.76\n",
      "European Put Option Price: $0.81\n"
     ]
    }
   ],
   "source": [
    "C_val = round(C.item(),2)\n",
    "P_val = round(P.item(),2)\n",
    "print(f'European Call Option Price: ${C_val}')\n",
    "print(f'European Put Option Price: ${P_val}')"
   ]
  }
 ],
 "metadata": {
  "kernelspec": {
   "display_name": ".venv",
   "language": "python",
   "name": "python3"
  },
  "language_info": {
   "codemirror_mode": {
    "name": "ipython",
    "version": 3
   },
   "file_extension": ".py",
   "mimetype": "text/x-python",
   "name": "python",
   "nbconvert_exporter": "python",
   "pygments_lexer": "ipython3",
   "version": "3.12.3"
  }
 },
 "nbformat": 4,
 "nbformat_minor": 2
}
