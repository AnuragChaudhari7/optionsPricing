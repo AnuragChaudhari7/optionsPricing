{
 "cells": [
  {
   "cell_type": "markdown",
   "metadata": {},
   "source": [
    "# **Black-Scholes PDE & Solutions**\n",
    "This equation is used to model European call options and is used to determine the fair price of this option in a continous setting - unlike the binomial model which was done in a discrete setting\n"
   ]
  },
  {
   "cell_type": "markdown",
   "metadata": {},
   "source": [
    "## Black-Scholes PDE\n",
    "Black Scholes Partial Differential Equation\n",
    "$$\\frac{\\delta V}{\\delta t}(S_t,t)dt + \\frac{1}{2} {\\sigma}^2 \\cdot {S_t}^2 \\cdot \\frac{{\\delta}^2 V}{\\delta S^2}(S_t,t) + r\\cdot S_t \\cdot \\frac{\\delta V}{\\delta S}(S_t , t) = rV_t \\,\\,\\,\\,\\,\\,\\,\\,\\,\\,\\,\\,\\,\\,\\,\\,\\,\\,\\,\\,\\,\\, \\forall t \\in [0,T) , x \\geq 0$$\n",
    "$ $\n",
    "where <br>\n",
    "$S_t$ is the **stock price** at time $t$ <br>\n",
    "$\\sigma$ is the **stock volatility** (assumed to be constant) <br>\n",
    "$V_t$ is the **option price** at time $t$ <br>"
   ]
  },
  {
   "cell_type": "markdown",
   "metadata": {},
   "source": [
    "## Solution to Black-Scholes PDE\n",
    "\n",
    "\n",
    "$$ V_t = S_t \\cdot N(\\, d_+ (\\tau , S_t) \\,) - Ke^{-r \\tau} \\cdot N(\\, d_- (\\tau , S_t \\,) ) $$\n",
    "\n",
    "where \n",
    "$$ d_{\\pm}(\\tau , x) = \\frac{1}{\\sigma \\sqrt{\\tau}} \\left[log \\frac{S_t}{K} + \\left( r \\pm \\frac{{\\sigma}^2}{2} \\right) \\cdot \\tau \\right]$$ \n",
    "\n",
    "and the Normal CDF\n",
    "$$N(y) = \\frac{1}{\\sqrt{2\\pi}} \\int_{- \\infty}^{y} e^{- \\frac{z^2}{2}} dz $$\n",
    "\n",
    "where <br>\n",
    "$K$ is the option **strike price** <br>\n",
    "$\\tau = T - t$ where $T$ is **option expiry** <br>\n",
    "$r$ is risk-free **interest rate** <br>\n"
   ]
  }
 ],
 "metadata": {
  "language_info": {
   "name": "python"
  }
 },
 "nbformat": 4,
 "nbformat_minor": 2
}
