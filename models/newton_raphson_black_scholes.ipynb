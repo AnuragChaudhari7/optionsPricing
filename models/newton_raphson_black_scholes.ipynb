{
 "cells": [
  {
   "cell_type": "markdown",
   "metadata": {},
   "source": [
    "# Newton-Raphson for Black-Scholes Implied Volatility\n",
    "This document will provide the theory and some code for understanding how to back out the implied volatility for the closed-form Black-Scholes equation using the numerical technique Newton-Raphson"
   ]
  },
  {
   "cell_type": "markdown",
   "metadata": {},
   "source": [
    "## Theory"
   ]
  },
  {
   "cell_type": "markdown",
   "metadata": {},
   "source": [
    "Given the price $P$ of a European option with an underlying security that pays no dividends (along with other parameters), we want to find the implied volatility of the option. <br>\n",
    "\n",
    "Plot a graph with x-axis as $\\sigma$ and y-axis as $BS(\\sigma) - P$. <br><br>\n",
    "In order to find the implied volatility, we want to find the root of the graph. i.e. when the difference between the Black-Scholes theoretical price and the market price is 0 (or close enough)."
   ]
  },
  {
   "cell_type": "markdown",
   "metadata": {},
   "source": [
    "### Newton-Raphson Formula\n",
    "Given $f(x) = 0$, the Newton-Raphson formula is \n",
    "\n",
    "$$ x_{n+1} = x_n - \\frac{f(x_n)}{f'(x_n)}$$\n",
    "\n",
    "Adapting this to our graph, and setting $f = BS(\\sigma) - P$ we obtain:\n",
    "\n",
    "$$ {\\sigma}_{n+1} = {\\sigma}_{n} - \\frac{f({\\sigma}_n)}{f'({\\sigma}_n)}$$\n",
    "\n",
    "Notice that $f'({\\sigma}_n)$ is the option Greek vega:\n",
    "\n",
    "$$ \\nu = \\frac{\\delta V}{\\delta \\sigma} = S \\cdot \\phi (d_1) \\cdot \\sqrt{\\tau}$$ \n",
    "\n",
    "i.e. the parital derivative of the option price w.r.t volatility"
   ]
  },
  {
   "cell_type": "markdown",
   "metadata": {},
   "source": [
    "### Formula for I-V\n",
    "Thus obtaining the formula to be used as:\n",
    "\n",
    "$$ {\\sigma}_{n+1} = {\\sigma}_{n} - \\frac{BS({\\sigma}_n) - P}{\\nu ({\\sigma}_n)} $$"
   ]
  },
  {
   "cell_type": "markdown",
   "metadata": {},
   "source": [
    "## Implementation"
   ]
  },
  {
   "cell_type": "code",
   "execution_count": null,
   "metadata": {},
   "outputs": [],
   "source": [
    "# NB the imports here do not work, purely for code display\n",
    "from backend.black_scholes import black_scholes_call\n",
    "from backend.black_scholes import greek_vega"
   ]
  },
  {
   "cell_type": "code",
   "execution_count": null,
   "metadata": {},
   "outputs": [],
   "source": [
    "S = 30\n",
    "K = 28\n",
    "T = 0.5\n",
    "r = 0.025\n",
    "sig = 0.3\n",
    "P = 3.7"
   ]
  },
  {
   "cell_type": "code",
   "execution_count": null,
   "metadata": {},
   "outputs": [],
   "source": [
    "def newton_raphson(S, K, T, r, sig, P, tol=0.00001):\n",
    "\n",
    "    old_vol = sig\n",
    "\n",
    "    for i in range(200):\n",
    "        bs_price = black_scholes_call(S,K,T,r,old_vol)\n",
    "        vega = greek_vega(S,K,T,r,old_vol)\n",
    "\n",
    "        new_vol = old_vol - ((bs_price - P) / vega)\n",
    "        \n",
    "        # if within tolerance\n",
    "        if abs(old_vol - new_vol) < tol:\n",
    "            break\n",
    "\n",
    "        old_vol = new_vol\n",
    "\n",
    "    return new_vol\n",
    "\n",
    "print(newton_raphson(30, 28, 0.5, 0.025, 0.3, 3.7))\n"
   ]
  }
 ],
 "metadata": {
  "kernelspec": {
   "display_name": ".venv",
   "language": "python",
   "name": "python3"
  },
  "language_info": {
   "codemirror_mode": {
    "name": "ipython",
    "version": 3
   },
   "file_extension": ".py",
   "mimetype": "text/x-python",
   "name": "python",
   "nbconvert_exporter": "python",
   "pygments_lexer": "ipython3",
   "version": "3.12.3"
  }
 },
 "nbformat": 4,
 "nbformat_minor": 2
}
